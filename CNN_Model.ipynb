{
 "cells": [
  {
   "cell_type": "code",
   "execution_count": null,
   "metadata": {
    "collapsed": false
   },
   "outputs": [],
   "source": [
    "from keras import backend as K"
   ]
  },
  {
   "cell_type": "code",
   "execution_count": null,
   "metadata": {
    "collapsed": false
   },
   "outputs": [],
   "source": [
    "# just to see the input format for input_shape\n",
    "K.image_data_format()"
   ]
  },
  {
   "cell_type": "code",
   "execution_count": null,
   "metadata": {
    "collapsed": false
   },
   "outputs": [],
   "source": [
    "from keras.models import Sequential\n",
    "from keras.layers import Convolution2D, MaxPooling2D, Dropout, Dense, \\\n",
    "    Flatten, Activation\n",
    "from keras.regularizers import l2, l1\n",
    "from keras.preprocessing.image import ImageDataGenerator\n",
    "\n",
    "import numpy as np"
   ]
  },
  {
   "cell_type": "code",
   "execution_count": null,
   "metadata": {
    "collapsed": true
   },
   "outputs": [],
   "source": [
    "training_directory = '/home/brianjquinlan/AircraftTest/DataSubset/TrainImages'\n",
    "test_directory = '/home/brianjquinlan/AircraftTest/DataSubset/TestImages'\n",
    "\n",
    "# train_samples = 110336\n",
    "# test_samples = 27638\n",
    "train_samples = 33033\n",
    "test_samples = 8254"
   ]
  },
  {
   "cell_type": "code",
   "execution_count": null,
   "metadata": {
    "collapsed": false
   },
   "outputs": [],
   "source": [
    "# tried to have to conv layers per each pooling but will take to long to run as of now\n",
    "# so far not looking like a very good model, it is not yet finished for me\n",
    "# would like to have more inputs on the first dense layer but also would take too long \n",
    "\n",
    "model = Sequential()\n",
    "model.add(Convolution2D(32, (5, 5), activation='relu', input_shape=(405,270, 3)))\n",
    "model.add(MaxPooling2D(pool_size=(3,3)))\n",
    "model.add(Activation('relu'))\n",
    "\n",
    "model.add(Convolution2D(32, (5, 5), activation='relu'))\n",
    "model.add(MaxPooling2D(pool_size=(3,3)))\n",
    "model.add(Activation('relu'))\n",
    "\n",
    "model.add(Convolution2D(32, (5,5), activation='relu'))\n",
    "model.add(MaxPooling2D(pool_size=(3,3)))\n",
    "model.add(Activation('relu'))\n",
    "\n",
    "model.add(Flatten())\n",
    "model.add(Dense(69, activation='relu'))\n",
    "model.add(Dropout(0.4))\n",
    "model.add(Dense(69, activation='softmax'))\n",
    "\n",
    "model.compile(loss='categorical_crossentropy', optimizer='adam' , metrics=['accuracy'])"
   ]
  },
  {
   "cell_type": "code",
   "execution_count": null,
   "metadata": {
    "collapsed": false,
    "scrolled": true
   },
   "outputs": [],
   "source": [
    "model.summary()"
   ]
  },
  {
   "cell_type": "code",
   "execution_count": null,
   "metadata": {
    "collapsed": false
   },
   "outputs": [],
   "source": [
    "# would like to use more epochs but will take to long.\n",
    "\n",
    "datagen = ImageDataGenerator(rescale=1. / 255)\n",
    "\n",
    "train_generator = datagen.flow_from_directory(\n",
    "    training_directory,\n",
    "    target_size=(405, 270),\n",
    "    batch_size= 150,\n",
    "    class_mode='categorical')\n",
    "\n",
    "test_generator = datagen.flow_from_directory(\n",
    "    test_directory,\n",
    "    target_size=(405, 270),\n",
    "    batch_size=150,\n",
    "    class_mode='categorical')\n",
    "\n",
    "model.fit_generator(\n",
    "    train_generator,\n",
    "    steps_per_epoch = train_samples // 150,\n",
    "    epochs = 10,\n",
    "    validation_data = test_generator,\n",
    "    validation_steps = test_samples // 150)\n",
    "\n",
    "model.save_weights('starting_point.h5')"
   ]
  },
  {
   "cell_type": "code",
   "execution_count": null,
   "metadata": {
    "collapsed": true
   },
   "outputs": [],
   "source": [
    "predicted = model.predict_generator(test_generator, test_samples // 150)\n",
    "predicted = np.argmax(predicted, axis=1)"
   ]
  },
  {
   "cell_type": "code",
   "execution_count": null,
   "metadata": {
    "collapsed": true
   },
   "outputs": [],
   "source": [
    "from sklearn.metrics import classification_report, confusion_matrix, accuracy_score\n",
    "\n",
    "print('Confusion Matrix')\n",
    "print(confusion_matrix(test_generator.classes, predicted))\n",
    "\n",
    "print(accuracy_score(test_generator.classes, predicted))"
   ]
  }
 ],
 "metadata": {
  "kernelspec": {
   "display_name": "Python 3",
   "language": "python",
   "name": "python3"
  },
  "language_info": {
   "codemirror_mode": {
    "name": "ipython",
    "version": 3
   },
   "file_extension": ".py",
   "mimetype": "text/x-python",
   "name": "python",
   "nbconvert_exporter": "python",
   "pygments_lexer": "ipython3",
   "version": "3.5.4"
  }
 },
 "nbformat": 4,
 "nbformat_minor": 0
}
